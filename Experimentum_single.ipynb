{
 "nbformat": 4,
 "nbformat_minor": 2,
 "metadata": {
  "language_info": {
   "name": "python",
   "codemirror_mode": {
    "name": "ipython",
    "version": 3
   },
   "version": "3.7.4-final"
  },
  "orig_nbformat": 2,
  "file_extension": ".py",
  "mimetype": "text/x-python",
  "name": "python",
  "npconvert_exporter": "python",
  "pygments_lexer": "ipython3",
  "version": 3,
  "kernelspec": {
   "name": "python37464bitbasecondab433cf4e510547ec965b8516ec2ef1c6",
   "display_name": "Python 3.7.4 64-bit ('base': conda)"
  }
 },
 "cells": [
  {
   "cell_type": "code",
   "execution_count": 1,
   "metadata": {},
   "outputs": [],
   "source": [
    "import  lib_Experimentum    as      Exp\n",
    "from    Alessandria         import  *\n",
    "from    Models              import  S_2_Generate, S_Dynamical_Form_Factor_2, S_Dynamical_Form_Factor_0, S_0_Generate\n",
    "\n",
    "import pandas as pd\n",
    "import  numpy               as      np\n",
    "from    scipy.io            import  loadmat\n",
    "\n",
    "from    matplotlib.pyplot   import  plot\n",
    "import  matplotlib.pyplot   as      plt\n",
    "\n",
    "\n",
    "import  time\n",
    "\n",
    "spectra_path        =   '../Claudia/DaticellBoniPuntiDoppi/'\n",
    "spectra_filename    =   '20191218_K27M'\n",
    "\n",
    "VIPA_path           =   '../Claudia/DaticellBoniPuntiDoppi/picchi_elastici_con_filtro_100msexp/Pos0/'\n",
    "VIPA_filename       =   'img_000000000_Default_000.tif'\n",
    "\n",
    "\n",
    "syg_kwargs          =   {'height': 20, 'distance': 20, 'width': 5.}\n",
    "syg_kwargs_brill    =   {'height': 20, 'distance': 20, 'width': 5.}"
   ]
  },
  {
   "cell_type": "code",
   "execution_count": 0,
   "metadata": {},
   "outputs": [],
   "source": [
    "#0) importo dati e inizializzo oggetti\n",
    "i   =   0\n",
    "j   =   0\n",
    "\n",
    "y    =   Import_from_Matlab(spectra_filename, spectra_path, var_name = 'y')[i][j]\n",
    "Data    =   Exp.Spectrum(name = str((i,j)))\n",
    "Data.Get_Spectrum(y = np.resize(y, np.max(y.shape)), offset = 183., cut = True, cut_range = (100, 680))\n",
    "Data.Get_Spectrum_Peaks(**syg_kwargs)\n",
    "Data.Get_VIPA_tif(VIPA_filename, VIPA_path)\n",
    "\n",
    "plt.figure()\n",
    "plt.plot(Data.x_pix, Data.y)\n",
    "plt.plot(Data.x_pix[Data.peaks[0]], Data.y[Data.peaks[0]], '*')\n",
    "\n",
    "\n",
    "check = Data.Check_Spectrum(saturation_width = 13.5)\n",
    "\n",
    "if      check == 1  : nature    = 'saturo'\n",
    "elif    check == 2  : nature    = 'brillouin_higher'\n",
    "elif    check == 3  : nature    = 'invisible'\n",
    "else:                 nature    = 'bono'\n",
    "print('Lo spettro è '+nature)"
   ]
  },
  {
   "cell_type": "code",
   "execution_count": 0,
   "metadata": {},
   "outputs": [],
   "source": [
    "#1) Operazioni di modifica Spettro\n",
    "\n",
    "Data.How_Many_Peaks_To_VIPA(treshold = 30)\n",
    "Data.Fit_Pixel2GHz(fig = True)\n",
    "Data.VIPA_Pix2GHz(fig = True)\n",
    "Data.Spectrum_Pix2GHz()\n",
    "\n",
    "if nature == 'brillouin_higher':  \n",
    "\n",
    "    Data.Get_Spectrum_Peaks(**syg_kwargs_brill)\n",
    "    Data.Get_Spectrum_4_Peaks_by_Order()\n",
    "\n",
    "else:           \n",
    "\n",
    "    Data.Get_Spectrum_4_Peaks_by_Height()\n",
    "\n",
    "Data.Cut_n_Estimate_Spectrum(estimate = True, verbose = True, distanza = 0.25)\n",
    "Data.Fit_VIPA_Gaussian(verbose = True, fig = True)\n",
    "plt.figure()\n",
    "plt.plot(Data.x_freq, Data.y)"
   ]
  },
  {
   "cell_type": "code",
   "execution_count": 0,
   "metadata": {},
   "outputs": [],
   "source": [
    "#3) fit markoviano\n",
    "\n",
    "Data.Estimate_Initial_Parameters(p0 = Data.p0.values[0], treshold = 1000)\n",
    "Data.Take_A_Look_Before_Fitting()"
   ]
  },
  {
   "cell_type": "code",
   "execution_count": 0,
   "metadata": {},
   "outputs": [],
   "source": [
    "pd.DataFrame({}, columns = ('Co', 'Omega', 'Gamma', 'Delta', 'tau', 'delta_width','delta_amplitude', 'A', 'mu', 'sigma', 'shift', 'offset'))"
   ]
  },
  {
   "cell_type": "code",
   "execution_count": 0,
   "metadata": {},
   "outputs": [],
   "source": [
    "Data.res_lsq['success']"
   ]
  },
  {
   "cell_type": "code",
   "execution_count": null,
   "metadata": {},
   "outputs": [],
   "source": []
  }
 ]
}