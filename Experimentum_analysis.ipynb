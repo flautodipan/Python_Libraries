{
 "nbformat": 4,
 "nbformat_minor": 2,
 "metadata": {
  "language_info": {
   "name": "python",
   "codemirror_mode": {
    "name": "ipython",
    "version": 3
   },
   "version": "3.7.3-final"
  },
  "orig_nbformat": 2,
  "file_extension": ".py",
  "mimetype": "text/x-python",
  "name": "python",
  "npconvert_exporter": "python",
  "pygments_lexer": "ipython3",
  "version": 3,
  "kernelspec": {
   "name": "python37364bit99beb78c1a234ace9e58a7ab8d8a1546",
   "display_name": "Python 3.7.3 64-bit"
  }
 },
 "cells": [
  {
   "cell_type": "code",
   "execution_count": 1,
   "metadata": {},
   "outputs": [
    {
     "name": "stdout",
     "output_type": "stream",
     "text": "Ho inizializzato una matrice 101x83, per un totale di 8383 spettri\n101 83\n"
    }
   ],
   "source": [
    "import      numpy               as      np\n",
    "import      matplotlib.pyplot   as      plt\n",
    "from        lib_Experimentum    import  *\n",
    "from        Alessandria         import  *\n",
    "\n",
    "#path dove stanno i dati del fit\n",
    "now_path        =   '../BRILLOUIN/TDP43/NO_ARS_12_02/analysis/'\n",
    "n_rows          =   101\n",
    "n_cols          =   83\n",
    "\n",
    "matrix, rows, cols = Initialize_Matrix(0,0,n_rows,n_cols)\n",
    "print(len(rows), len(cols))"
   ]
  },
  {
   "cell_type": "code",
   "execution_count": 2,
   "metadata": {},
   "outputs": [
    {
     "name": "stdout",
     "output_type": "stream",
     "text": "Ok ho recuperato le informazioni sulle posizioni\n"
    }
   ],
   "source": [
    "#1) Recupero info su posizioni + info su chi è bono e chi no e su VIPA (questo solo per matrix[0][0])\n",
    "\n",
    "with open(now_path+'xy.txt', 'r') as fin:\n",
    "    lines = fin.readlines()[1:]\n",
    "\n",
    "excluded = ()\n",
    "\n",
    "with open(now_path+'markov_fit.txt', 'r') as fin:\n",
    "    fit     =   eval(fin.read())\n",
    "_,_,_, boni = Unpack_Fit(fit)\n",
    "\n",
    "\"\"\"\n",
    "with open(now_path+'xy_VIPA.txt', 'r') as fin:\n",
    "    VIPAs = fin.readlines()[1:]\n",
    "\n",
    "x_VIPA = np.array(VIPAs[0][1:-2].split(), dtype=float)\n",
    "y_VIPA = np.array(VIPAs[1][1:-2].split(), dtype=float)\n",
    "\n",
    "matrix[0][0].Recover_VIPA(x_VIPA, y_VIPA)\n",
    "\"\"\"\n",
    "count = 0\n",
    "for ii in range(len(rows)):\n",
    "    for jj in range(len(cols)):\n",
    "        #print(lines[count],lines[count+1] )\n",
    "        matrix[ii][jj].Recover_Spectrum(np.array(lines[count][1:-2].split(), dtype=float), np.array(lines[count+1][1:-2].split(), dtype=float))\n",
    "        \n",
    "        if (ii,jj) not in boni:\n",
    "            excluded = excluded +((ii,jj),)\n",
    "\n",
    "        count = count + 2\n",
    "\n",
    "print('Ok ho recuperato le informazioni sulle posizioni')"
   ]
  },
  {
   "cell_type": "code",
   "execution_count": 3,
   "metadata": {},
   "outputs": [
    {
     "name": "stdout",
     "output_type": "stream",
     "text": "Ok ho recuperato le informazioni del Fit Markoviano\n"
    }
   ],
   "source": [
    "#2) Acquisico i dati prodotti dal fit markoviano\n",
    "\n",
    "\n",
    "##################### MARKOVIANO\n",
    "\n",
    "with open(now_path+'y_markov_fit.txt', 'r') as fin:\n",
    "    y_fits = fin.readlines()\n",
    "\n",
    "with open(now_path+'cost_markov.txt', 'r') as fin:\n",
    "    costi = fin.readlines()\n",
    "\n",
    "with open(now_path+'markov_fit_params.txt', 'r') as fin:\n",
    "    lines   =   fin.readlines()\n",
    "\n",
    "if (len(boni) != len(lines)):\n",
    "    raise ValueError(\"Incompatibilità tra lunghezza file parametri ({}) e informazioni fit ({})\".format(len(boni), len(lines)))\n",
    "\n",
    "for (line, y_fit, cost, (ii,jj)) in zip(lines, y_fits, costi,  boni) :\n",
    "#for (line, cost, (ii,jj)) in zip(lines, costi,   boni) :\n",
    "    matrix[ii][jj].Recover_Markov_Fit_Params(line)\n",
    "    matrix[ii][jj].Recover_y_markov_fit(np.array(y_fit[1:-2].split(), dtype = float))\n",
    "    matrix[ii][jj].Recover_cost_markov(float(cost))\n",
    "\n",
    "print('Ok ho recuperato le informazioni del Fit Markoviano')\n",
    "\n"
   ]
  },
  {
   "cell_type": "code",
   "execution_count": 4,
   "metadata": {},
   "outputs": [
    {
     "name": "stdout",
     "output_type": "stream",
     "text": "(5, 46) ha Omega= 8.91\n(35, 35) ha Omega= 8.92\n(36, 16) ha Omega= 8.91\n(44, 53) ha Omega= 8.89\n(44, 74) ha Omega= 8.92\n(44, 76) ha Omega= 8.93\n(56, 13) ha Omega= 8.92\n(56, 31) ha Omega= 8.93\n(58, 28) ha Omega= 8.93\n(58, 75) ha Omega= 8.36\n(60, 15) ha Omega= 8.93\n(61, 44) ha Omega= 8.91\n(65, 47) ha Omega= 8.93\n(65, 72) ha Omega= 8.93\n(66, 46) ha Omega= 8.91\n(74, 74) ha Omega= 8.92\n(75, 13) ha Omega= 8.91\n(76, 42) ha Omega= 8.93\n(78, 42) ha Omega= 8.93\n(82, 59) ha Omega= 8.73\n(84, 19) ha Omega= 8.68\n(96, 51) ha Omega= 8.37\n22\n"
    }
   ],
   "source": [
    "omega_too_high = Whose_Param_Too_High('Omega', 8.2, 'markov', matrix, boni)\n",
    "print(len(omega_too_high))"
   ]
  },
  {
   "cell_type": "code",
   "execution_count": 4,
   "metadata": {},
   "outputs": [
    {
     "name": "stdout",
     "output_type": "stream",
     "text": "Completata Parameter_Map per Omega\nHo trovato 67 elementi saturati\n"
    }
   ],
   "source": [
    "\n",
    "\n",
    "omega_markov_map, _ = Get_Parameter_Map('markov', 'Omega', matrix, n_rows, n_cols, excluded, 'seismic', 7.3,8., fig = 'Delta_omega_markov_map', path=now_path)\n"
   ]
  },
  {
   "cell_type": "code",
   "execution_count": 7,
   "metadata": {},
   "outputs": [
    {
     "name": "stdout",
     "output_type": "stream",
     "text": "Completata Parameter_Map per Omega\nHo trovato 67 elementi saturati\n"
    }
   ],
   "source": [
    "Delta_omega_markov_map, _ = Get_Parameter_Map('markov', 'Omega', matrix, n_rows, n_cols, excluded, 'seismic', 0,0.7, fig = 'Delta_omega_markov_map', path=now_path, Deltas = True)"
   ]
  },
  {
   "cell_type": "code",
   "execution_count": 8,
   "metadata": {},
   "outputs": [
    {
     "name": "stdout",
     "output_type": "stream",
     "text": "Completata Parameter_Map per Gamma\nHo trovato 67 elementi saturati\n"
    }
   ],
   "source": [
    "gamma_markov_map, _ = Get_Parameter_Map('markov', 'Gamma', matrix, n_rows, n_cols, excluded, 'seismic', 0.1,0.25, fig = 'Gamma_markov_map', path=now_path)"
   ]
  },
  {
   "cell_type": "code",
   "execution_count": 24,
   "metadata": {},
   "outputs": [
    {
     "name": "stdout",
     "output_type": "stream",
     "text": "Completata Parameter_Map per Gamma\nHo trovato 133 elementi saturati\n"
    }
   ],
   "source": [
    "Delta_gamma_markov_map, _ = Get_Parameter_Map('markov', 'Gamma', matrix, n_rows, n_cols, excluded, 'seismic', 0,0.05, fig = 'Delta_gamma_markov_map', path=now_path, Deltas = True)"
   ]
  },
  {
   "cell_type": "code",
   "execution_count": 16,
   "metadata": {},
   "outputs": [
    {
     "name": "stdout",
     "output_type": "stream",
     "text": "(78, 1)\n"
    },
    {
     "data": {
      "image/png": "[encoded data removed]",
      "image/svg+xml": "<?xml version=\"1.0\" encoding=\"utf-8\" standalone=\"no\"?>\n<!DOCTYPE svg PUBLIC \"-//W3C//DTD SVG 1.1//EN\"\n  \"http://www.w3.org/Graphics/SVG/1.1/DTD/svg11.dtd\">\n<!-- Created with matplotlib (https://matplotlib.org/) -->\n<svg height=\"263.63625pt\" version=\"1.1\" viewBox=\"0 0 375.2875 263.63625\" width=\"375.2875pt\" xmlns=\"http://www.w3.org/2000/svg\" xmlns:xlink=\"http://www.w3.org/1999/xlink\">\n <defs>\n  <style type=\"text/css\">\n*{stroke-linecap:butt;stroke-linejoin:round;}\n  </style>\n </defs>\n <g id=\"figure_1\">\n  <g id=\"patch_1\">\n   <path d=\"M 0 263.63625 \nL 375.2875 263.63625 \nL 375.2875 0 \nL 0 0 \nz\n\" style=\"fill:none;\"/>\n  </g>\n  <g id=\"axes_1\">\n   <g id=\"patch_2\">\n    <path d=\"M 33.2875 239.758125 \nL 368.0875 239.758125 \nL 368.0875 22.318125 \nL 33.2875 22.318125 \nz\n\" style=\"fill:#ffffff;\"/>\n   </g>\n   <g id=\"matplotlib.axis_1\">\n    <g id=\"xtick_1\">\n     <g id=\"line2d_1\">\n      <defs>\n       <path d=\"M 0 0 \nL 0 3.5 \n\" id=\"m71fad2468c\" style=\"stroke:#000000;stroke-width:0.8;\"/>\n      </defs>\n      <g>\n       <use style=\"stroke:#000000;stroke-width:0.8;\" x=\"39.401846\" xlink:href=\"#m71fad2468c\" y=\"239.758125\"/>\n      </g>\n     </g>\n     <g id=\"text_1\">\n      <!-- −30 -->\n      <defs>\n       <path d=\"M 10.59375 35.5 \nL 73.1875 35.5 \nL 73.1875 27.203125 \nL 10.59375 27.203125 \nz\n\" id=\"DejaVuSans-8722\"/>\n       <path d=\"M 40.578125 39.3125 \nQ 47.65625 37.796875 51.625 33 \nQ 55.609375 28.21875 55.609375 21.1875 \nQ 55.609375 10.40625 48.1875 4.484375 \nQ 40.765625 -1.421875 27.09375 -1.421875 \nQ 22.515625 -1.421875 17.65625 -0.515625 \nQ 12.796875 0.390625 7.625 2.203125 \nL 7.625 11.71875 \nQ 11.71875 9.328125 16.59375 8.109375 \nQ 21.484375 6.890625 26.8125 6.890625 \nQ 36.078125 6.890625 40.9375 10.546875 \nQ 45.796875 14.203125 45.796875 21.1875 \nQ 45.796875 27.640625 41.28125 31.265625 \nQ 36.765625 34.90625 28.71875 34.90625 \nL 20.21875 34.90625 \nL 20.21875 43.015625 \nL 29.109375 43.015625 \nQ 36.375 43.015625 40.234375 45.921875 \nQ 44.09375 48.828125 44.09375 54.296875 \nQ 44.09375 59.90625 40.109375 62.90625 \nQ 36.140625 65.921875 28.71875 65.921875 \nQ 24.65625 65.921875 20.015625 65.03125 \nQ 15.375 64.15625 9.8125 62.3125 \nL 9.8125 71.09375 \nQ 15.4375 72.65625 20.34375 73.4375 \nQ 25.25 74.21875 29.59375 74.21875 \nQ 40.828125 74.21875 47.359375 69.109375 \nQ 53.90625 64.015625 53.90625 55.328125 \nQ 53.90625 49.265625 50.4375 45.09375 \nQ 46.96875 40.921875 40.578125 39.3125 \nz\n\" id=\"DejaVuSans-51\"/>\n       <path d=\"M 31.78125 66.40625 \nQ 24.171875 66.40625 20.328125 58.90625 \nQ 16.5 51.421875 16.5 36.375 \nQ 16.5 21.390625 20.328125 13.890625 \nQ 24.171875 6.390625 31.78125 6.390625 \nQ 39.453125 6.390625 43.28125 13.890625 \nQ 47.125 21.390625 47.125 36.375 \nQ 47.125 51.421875 43.28125 58.90625 \nQ 39.453125 66.40625 31.78125 66.40625 \nz\nM 31.78125 74.21875 \nQ 44.046875 74.21875 50.515625 64.515625 \nQ 56.984375 54.828125 56.984375 36.375 \nQ 56.984375 17.96875 50.515625 8.265625 \nQ 44.046875 -1.421875 31.78125 -1.421875 \nQ 19.53125 -1.421875 13.0625 8.265625 \nQ 6.59375 17.96875 6.59375 36.375 \nQ 6.59375 54.828125 13.0625 64.515625 \nQ 19.53125 74.21875 31.78125 74.21875 \nz\n\" id=\"DejaVuSans-48\"/>\n      </defs>\n      <g transform=\"translate(28.849502 254.356563)scale(0.1 -0.1)\">\n       <use xlink:href=\"#DejaVuSans-8722\"/>\n       <use x=\"83.789062\" xlink:href=\"#DejaVuSans-51\"/>\n       <use x=\"147.412109\" xlink:href=\"#DejaVuSans-48\"/>\n      </g>\n     </g>\n    </g>\n    <g id=\"xtick_2\">\n     <g id=\"line2d_2\">\n      <g>\n       <use style=\"stroke:#000000;stroke-width:0.8;\" x=\"93.65167\" xlink:href=\"#m71fad2468c\" y=\"239.758125\"/>\n      </g>\n     </g>\n     <g id=\"text_2\">\n      <!-- −25 -->\n      <defs>\n       <path d=\"M 19.1875 8.296875 \nL 53.609375 8.296875 \nL 53.609375 0 \nL 7.328125 0 \nL 7.328125 8.296875 \nQ 12.9375 14.109375 22.625 23.890625 \nQ 32.328125 33.6875 34.8125 36.53125 \nQ 39.546875 41.84375 41.421875 45.53125 \nQ 43.3125 49.21875 43.3125 52.78125 \nQ 43.3125 58.59375 39.234375 62.25 \nQ 35.15625 65.921875 28.609375 65.921875 \nQ 23.96875 65.921875 18.8125 64.3125 \nQ 13.671875 62.703125 7.8125 59.421875 \nL 7.8125 69.390625 \nQ 13.765625 71.78125 18.9375 73 \nQ 24.125 74.21875 28.421875 74.21875 \nQ 39.75 74.21875 46.484375 68.546875 \nQ 53.21875 62.890625 53.21875 53.421875 \nQ 53.21875 48.921875 51.53125 44.890625 \nQ 49.859375 40.875 45.40625 35.40625 \nQ 44.1875 33.984375 37.640625 27.21875 \nQ 31.109375 20.453125 19.1875 8.296875 \nz\n\" id=\"DejaVuSans-50\"/>\n       <path d=\"M 10.796875 72.90625 \nL 49.515625 72.90625 \nL 49.515625 64.59375 \nL 19.828125 64.59375 \nL 19.828125 46.734375 \nQ 21.96875 47.46875 24.109375 47.828125 \nQ 26.265625 48.1875 28.421875 48.1875 \nQ 40.625 48.1875 47.75 41.5 \nQ 54.890625 34.8125 54.890625 23.390625 \nQ 54.890625 11.625 47.5625 5.09375 \nQ 40.234375 -1.421875 26.90625 -1.421875 \nQ 22.3125 -1.421875 17.546875 -0.640625 \nQ 12.796875 0.140625 7.71875 1.703125 \nL 7.71875 11.625 \nQ 12.109375 9.234375 16.796875 8.0625 \nQ 21.484375 6.890625 26.703125 6.890625 \nQ 35.15625 6.890625 40.078125 11.328125 \nQ 45.015625 15.765625 45.015625 23.390625 \nQ 45.015625 31 40.078125 35.4375 \nQ 35.15625 39.890625 26.703125 39.890625 \nQ 22.75 39.890625 18.8125 39.015625 \nQ 14.890625 38.140625 10.796875 36.28125 \nz\n\" id=\"DejaVuSans-53\"/>\n      </defs>\n      <g transform=\"translate(83.099327 254.356563)scale(0.1 -0.1)\">\n       <use xlink:href=\"#DejaVuSans-8722\"/>\n       <use x=\"83.789062\" xlink:href=\"#DejaVuSans-50\"/>\n       <use x=\"147.412109\" xlink:href=\"#DejaVuSans-53\"/>\n      </g>\n     </g>\n    </g>\n    <g id=\"xtick_3\">\n     <g id=\"line2d_3\">\n      <g>\n       <use style=\"stroke:#000000;stroke-width:0.8;\" x=\"147.901495\" xlink:href=\"#m71fad2468c\" y=\"239.758125\"/>\n      </g>\n     </g>\n     <g id=\"text_3\">\n      <!-- −20 -->\n      <g transform=\"translate(137.349151 254.356563)scale(0.1 -0.1)\">\n       <use xlink:href=\"#DejaVuSans-8722\"/>\n       <use x=\"83.789062\" xlink:href=\"#DejaVuSans-50\"/>\n       <use x=\"147.412109\" xlink:href=\"#DejaVuSans-48\"/>\n      </g>\n     </g>\n    </g>\n    <g id=\"xtick_4\">\n     <g id=\"line2d_4\">\n      <g>\n       <use style=\"stroke:#000000;stroke-width:0.8;\" x=\"202.151319\" xlink:href=\"#m71fad2468c\" y=\"239.758125\"/>\n      </g>\n     </g>\n     <g id=\"text_4\">\n      <!-- −15 -->\n      <defs>\n       <path d=\"M 12.40625 8.296875 \nL 28.515625 8.296875 \nL 28.515625 63.921875 \nL 10.984375 60.40625 \nL 10.984375 69.390625 \nL 28.421875 72.90625 \nL 38.28125 72.90625 \nL 38.28125 8.296875 \nL 54.390625 8.296875 \nL 54.390625 0 \nL 12.40625 0 \nz\n\" id=\"DejaVuSans-49\"/>\n      </defs>\n      <g transform=\"translate(191.598975 254.356563)scale(0.1 -0.1)\">\n       <use xlink:href=\"#DejaVuSans-8722\"/>\n       <use x=\"83.789062\" xlink:href=\"#DejaVuSans-49\"/>\n       <use x=\"147.412109\" xlink:href=\"#DejaVuSans-53\"/>\n      </g>\n     </g>\n    </g>\n    <g id=\"xtick_5\">\n     <g id=\"line2d_5\">\n      <g>\n       <use style=\"stroke:#000000;stroke-width:0.8;\" x=\"256.401143\" xlink:href=\"#m71fad2468c\" y=\"239.758125\"/>\n      </g>\n     </g>\n     <g id=\"text_5\">\n      <!-- −10 -->\n      <g transform=\"translate(245.848799 254.356563)scale(0.1 -0.1)\">\n       <use xlink:href=\"#DejaVuSans-8722\"/>\n       <use x=\"83.789062\" xlink:href=\"#DejaVuSans-49\"/>\n       <use x=\"147.412109\" xlink:href=\"#DejaVuSans-48\"/>\n      </g>\n     </g>\n    </g>\n    <g id=\"xtick_6\">\n     <g id=\"line2d_6\">\n      <g>\n       <use style=\"stroke:#000000;stroke-width:0.8;\" x=\"310.650968\" xlink:href=\"#m71fad2468c\" y=\"239.758125\"/>\n      </g>\n     </g>\n     <g id=\"text_6\">\n      <!-- −5 -->\n      <g transform=\"translate(303.279874 254.356563)scale(0.1 -0.1)\">\n       <use xlink:href=\"#DejaVuSans-8722\"/>\n       <use x=\"83.789062\" xlink:href=\"#DejaVuSans-53\"/>\n      </g>\n     </g>\n    </g>\n    <g id=\"xtick_7\">\n     <g id=\"line2d_7\">\n      <g>\n       <use style=\"stroke:#000000;stroke-width:0.8;\" x=\"364.900792\" xlink:href=\"#m71fad2468c\" y=\"239.758125\"/>\n      </g>\n     </g>\n     <g id=\"text_7\">\n      <!-- 0 -->\n      <g transform=\"translate(361.719542 254.356563)scale(0.1 -0.1)\">\n       <use xlink:href=\"#DejaVuSans-48\"/>\n      </g>\n     </g>\n    </g>\n   </g>\n   <g id=\"matplotlib.axis_2\">\n    <g id=\"ytick_1\">\n     <g id=\"line2d_8\">\n      <defs>\n       <path d=\"M 0 0 \nL -3.5 0 \n\" id=\"me1209ad88c\" style=\"stroke:#000000;stroke-width:0.8;\"/>\n      </defs>\n      <g>\n       <use style=\"stroke:#000000;stroke-width:0.8;\" x=\"33.2875\" xlink:href=\"#me1209ad88c\" y=\"234.349293\"/>\n      </g>\n     </g>\n     <g id=\"text_8\">\n      <!-- 0 -->\n      <g transform=\"translate(19.925 238.148512)scale(0.1 -0.1)\">\n       <use xlink:href=\"#DejaVuSans-48\"/>\n      </g>\n     </g>\n    </g>\n    <g id=\"ytick_2\">\n     <g id=\"line2d_9\">\n      <g>\n       <use style=\"stroke:#000000;stroke-width:0.8;\" x=\"33.2875\" xlink:href=\"#me1209ad88c\" y=\"207.71355\"/>\n      </g>\n     </g>\n     <g id=\"text_9\">\n      <!-- 25 -->\n      <g transform=\"translate(13.5625 211.512769)scale(0.1 -0.1)\">\n       <use xlink:href=\"#DejaVuSans-50\"/>\n       <use x=\"63.623047\" xlink:href=\"#DejaVuSans-53\"/>\n      </g>\n     </g>\n    </g>\n    <g id=\"ytick_3\">\n     <g id=\"line2d_10\">\n      <g>\n       <use style=\"stroke:#000000;stroke-width:0.8;\" x=\"33.2875\" xlink:href=\"#me1209ad88c\" y=\"181.077807\"/>\n      </g>\n     </g>\n     <g id=\"text_10\">\n      <!-- 50 -->\n      <g transform=\"translate(13.5625 184.877026)scale(0.1 -0.1)\">\n       <use xlink:href=\"#DejaVuSans-53\"/>\n       <use x=\"63.623047\" xlink:href=\"#DejaVuSans-48\"/>\n      </g>\n     </g>\n    </g>\n    <g id=\"ytick_4\">\n     <g id=\"line2d_11\">\n      <g>\n       <use style=\"stroke:#000000;stroke-width:0.8;\" x=\"33.2875\" xlink:href=\"#me1209ad88c\" y=\"154.442065\"/>\n      </g>\n     </g>\n     <g id=\"text_11\">\n      <!-- 75 -->\n      <defs>\n       <path d=\"M 8.203125 72.90625 \nL 55.078125 72.90625 \nL 55.078125 68.703125 \nL 28.609375 0 \nL 18.3125 0 \nL 43.21875 64.59375 \nL 8.203125 64.59375 \nz\n\" id=\"DejaVuSans-55\"/>\n      </defs>\n      <g transform=\"translate(13.5625 158.241283)scale(0.1 -0.1)\">\n       <use xlink:href=\"#DejaVuSans-55\"/>\n       <use x=\"63.623047\" xlink:href=\"#DejaVuSans-53\"/>\n      </g>\n     </g>\n    </g>\n    <g id=\"ytick_5\">\n     <g id=\"line2d_12\">\n      <g>\n       <use style=\"stroke:#000000;stroke-width:0.8;\" x=\"33.2875\" xlink:href=\"#me1209ad88c\" y=\"127.806322\"/>\n      </g>\n     </g>\n     <g id=\"text_12\">\n      <!-- 100 -->\n      <g transform=\"translate(7.2 131.60554)scale(0.1 -0.1)\">\n       <use xlink:href=\"#DejaVuSans-49\"/>\n       <use x=\"63.623047\" xlink:href=\"#DejaVuSans-48\"/>\n       <use x=\"127.246094\" xlink:href=\"#DejaVuSans-48\"/>\n      </g>\n     </g>\n    </g>\n    <g id=\"ytick_6\">\n     <g id=\"line2d_13\">\n      <g>\n       <use style=\"stroke:#000000;stroke-width:0.8;\" x=\"33.2875\" xlink:href=\"#me1209ad88c\" y=\"101.170579\"/>\n      </g>\n     </g>\n     <g id=\"text_13\">\n      <!-- 125 -->\n      <g transform=\"translate(7.2 104.969797)scale(0.1 -0.1)\">\n       <use xlink:href=\"#DejaVuSans-49\"/>\n       <use x=\"63.623047\" xlink:href=\"#DejaVuSans-50\"/>\n       <use x=\"127.246094\" xlink:href=\"#DejaVuSans-53\"/>\n      </g>\n     </g>\n    </g>\n    <g id=\"ytick_7\">\n     <g id=\"line2d_14\">\n      <g>\n       <use style=\"stroke:#000000;stroke-width:0.8;\" x=\"33.2875\" xlink:href=\"#me1209ad88c\" y=\"74.534836\"/>\n      </g>\n     </g>\n     <g id=\"text_14\">\n      <!-- 150 -->\n      <g transform=\"translate(7.2 78.334054)scale(0.1 -0.1)\">\n       <use xlink:href=\"#DejaVuSans-49\"/>\n       <use x=\"63.623047\" xlink:href=\"#DejaVuSans-53\"/>\n       <use x=\"127.246094\" xlink:href=\"#DejaVuSans-48\"/>\n      </g>\n     </g>\n    </g>\n    <g id=\"ytick_8\">\n     <g id=\"line2d_15\">\n      <g>\n       <use style=\"stroke:#000000;stroke-width:0.8;\" x=\"33.2875\" xlink:href=\"#me1209ad88c\" y=\"47.899093\"/>\n      </g>\n     </g>\n     <g id=\"text_15\">\n      <!-- 175 -->\n      <g transform=\"translate(7.2 51.698311)scale(0.1 -0.1)\">\n       <use xlink:href=\"#DejaVuSans-49\"/>\n       <use x=\"63.623047\" xlink:href=\"#DejaVuSans-55\"/>\n       <use x=\"127.246094\" xlink:href=\"#DejaVuSans-53\"/>\n      </g>\n     </g>\n    </g>\n   </g>\n   <g id=\"line2d_16\">\n    <path clip-path=\"url(#p4a337e917f)\" d=\"M 48.505682 193.436792 \nL 50.7241 212.827613 \nL 52.94414 217.302418 \nL 55.165802 219.788421 \nL 57.389086 222.487509 \nL 59.613991 227.033343 \nL 61.840518 224.831455 \nL 64.068665 226.10997 \nL 66.298434 227.104371 \nL 68.529824 228.382887 \nL 70.762834 227.388486 \nL 72.997464 228.311858 \nL 75.233716 227.317457 \nL 77.471587 228.880088 \nL 79.711078 229.448317 \nL 81.952189 228.453916 \nL 84.19492 225.896884 \nL 86.43927 227.246429 \nL 88.68524 225.896884 \nL 90.932828 221.990309 \nL 93.182036 225.754827 \nL 95.432863 225.683798 \nL 97.685308 225.825856 \nL 104.452355 219.362249 \nL 106.711273 210.90984 \nL 108.971809 208.352808 \nL 111.233963 203.02566 \nL 113.497735 191.092847 \nL 115.763124 185.055412 \nL 118.03013 154.797208 \nL 120.298753 150.606518 \nL 124.84085 176.318888 \nL 127.114323 191.519019 \nL 129.389413 202.457431 \nL 131.666119 209.276181 \nL 133.944441 215.242587 \nL 136.224379 214.958473 \nL 138.505932 220.995908 \nL 140.789101 223.48191 \nL 143.073886 222.061337 \nL 145.360286 225.044541 \nL 147.6483 226.394085 \nL 149.93793 227.388486 \nL 152.229174 225.186598 \nL 154.522033 225.754827 \nL 156.816507 227.317457 \nL 159.112594 224.405283 \nL 161.410296 226.607171 \nL 166.010541 229.874489 \nL 168.313084 229.164202 \nL 170.61724 227.601572 \nL 172.92301 225.399684 \nL 175.230393 225.115569 \nL 177.539388 228.027744 \nL 179.849997 225.61277 \nL 182.162217 226.394085 \nL 184.476051 226.252028 \nL 186.791496 225.328655 \nL 191.427224 225.825856 \nL 193.747505 225.683798 \nL 196.069398 223.766025 \nL 198.392903 226.891285 \nL 200.718018 223.623968 \nL 203.044745 227.956715 \nL 205.373083 223.339853 \nL 207.703031 223.979111 \nL 210.03459 223.694996 \nL 212.36776 224.618369 \nL 214.70254 226.962314 \nL 217.03893 225.967913 \nL 219.37693 228.453916 \nL 221.71654 228.311858 \nL 224.057759 225.541741 \nL 226.400588 228.311858 \nL 228.745026 223.48191 \nL 231.091073 228.027744 \nL 233.438729 228.169801 \nL 235.787994 227.104371 \nL 238.138868 225.115569 \nL 240.49135 224.618369 \nL 242.84544 226.323056 \nL 245.201138 225.541741 \nL 247.558445 222.700595 \nL 249.917359 224.973512 \nL 252.277881 220.85385 \nL 254.64001 218.651962 \nL 257.003747 220.569736 \nL 259.369091 216.66316 \nL 261.736042 217.089332 \nL 264.1046 216.947275 \nL 266.474764 207.074293 \nL 268.846535 196.562053 \nL 271.219912 190.027417 \nL 273.594895 176.318888 \nL 275.971484 155.578523 \nL 278.349679 113.17442 \nL 280.72948 94.706972 \nL 283.110886 86.041477 \nL 285.493898 91.368625 \nL 287.878515 116.512766 \nL 290.264736 162.397273 \nL 292.652563 188.748901 \nL 295.041994 198.977027 \nL 297.43303 202.457431 \nL 299.82567 215.242587 \nL 302.219914 217.089332 \nL 304.615763 220.072535 \nL 307.013215 217.72859 \nL 309.412271 221.137965 \nL 311.81293 217.089332 \nL 314.215193 225.328655 \nL 316.619059 220.072535 \nL 319.024528 222.629567 \nL 321.4316 220.924879 \nL 323.840274 219.788421 \nL 326.250551 220.427678 \nL 328.66243 219.504306 \nL 331.075912 216.16596 \nL 333.490996 213.964071 \nL 335.907681 203.735946 \nL 340.745857 194.573251 \nL 343.167347 183.989982 \nL 345.590439 166.516935 \nL 348.015131 169.287052 \nL 350.441424 93.144341 \nL 352.869318 32.201761 \nL 352.869318 32.201761 \n\" style=\"fill:none;stroke:#1f77b4;stroke-linecap:square;stroke-width:1.5;\"/>\n   </g>\n   <g id=\"line2d_17\">\n    <path clip-path=\"url(#p4a337e917f)\" d=\"M 48.505682 187.579937 \nL 50.7241 207.779919 \nL 52.94414 214.496514 \nL 55.165802 217.60559 \nL 57.389086 220.038272 \nL 59.613991 221.748297 \nL 61.840518 222.576291 \nL 66.298434 223.902066 \nL 68.529824 224.672131 \nL 70.762834 225.235874 \nL 72.997464 225.119641 \nL 75.233716 224.848673 \nL 77.471587 225.148017 \nL 81.952189 226.002905 \nL 84.19492 226.019288 \nL 86.43927 224.892019 \nL 88.68524 224.389745 \nL 90.932828 224.168525 \nL 93.182036 223.66685 \nL 95.432863 223.331731 \nL 97.685308 222.781296 \nL 99.939372 221.829604 \nL 102.195054 220.101654 \nL 104.452355 217.102237 \nL 106.711273 212.730122 \nL 108.971809 206.619999 \nL 111.233963 197.827711 \nL 113.497735 183.639089 \nL 115.763124 165.28983 \nL 118.03013 149.906263 \nL 120.298753 145.041913 \nL 122.568993 153.766467 \nL 127.114323 189.017214 \nL 129.389413 202.550444 \nL 131.666119 211.433805 \nL 133.944441 216.842611 \nL 136.224379 220.13947 \nL 138.505932 222.286227 \nL 143.073886 224.969295 \nL 145.360286 225.739145 \nL 149.93793 226.200975 \nL 152.229174 227.025752 \nL 154.522033 227.700638 \nL 156.816507 227.419946 \nL 159.112594 227.300516 \nL 170.61724 228.447528 \nL 177.539388 228.720042 \nL 179.849997 229.097514 \nL 182.162217 229.324381 \nL 184.476051 229.08485 \nL 186.791496 229.026134 \nL 193.747505 229.2432 \nL 196.069398 229.049806 \nL 198.392903 229.04425 \nL 200.718018 229.245116 \nL 205.373083 229.234109 \nL 207.703031 229.38464 \nL 210.03459 229.29617 \nL 212.36776 229.092315 \nL 217.03893 228.896547 \nL 221.71654 228.432485 \nL 224.057759 228.264454 \nL 226.400588 228.307351 \nL 231.091073 227.683157 \nL 233.438729 227.260698 \nL 235.787994 227.204173 \nL 238.138868 226.656033 \nL 240.49135 226.245515 \nL 247.558445 224.607365 \nL 249.917359 223.895156 \nL 252.277881 222.819049 \nL 254.64001 221.193185 \nL 259.369091 217.138178 \nL 261.736042 214.432521 \nL 264.1046 210.792478 \nL 266.474764 205.513054 \nL 268.846535 197.895552 \nL 271.219912 188.179786 \nL 273.594895 174.151858 \nL 275.971484 153.186069 \nL 278.349679 126.060966 \nL 280.72948 103.153288 \nL 283.110886 96.729644 \nL 285.493898 110.894156 \nL 287.878515 139.303285 \nL 290.264736 169.200734 \nL 292.652563 190.869753 \nL 295.041994 203.945634 \nL 297.43303 211.033908 \nL 299.82567 214.974624 \nL 302.219914 217.051662 \nL 304.615763 218.943622 \nL 307.013215 220.353342 \nL 309.412271 221.090194 \nL 311.81293 220.856181 \nL 314.215193 220.367755 \nL 316.619059 219.373635 \nL 319.024528 218.56855 \nL 321.4316 218.533763 \nL 323.840274 217.976699 \nL 328.66243 215.294659 \nL 331.075912 213.168657 \nL 333.490996 210.277746 \nL 335.907681 204.324795 \nL 340.745857 196.129358 \nL 343.167347 186.143239 \nL 345.590439 177.584988 \nL 348.015131 162.229441 \nL 352.869318 93.218463 \nL 352.869318 93.218463 \n\" style=\"fill:none;stroke:#ff7f0e;stroke-linecap:square;stroke-width:1.5;\"/>\n   </g>\n   <g id=\"patch_3\">\n    <path d=\"M 33.2875 239.758125 \nL 33.2875 22.318125 \n\" style=\"fill:none;stroke:#000000;stroke-linecap:square;stroke-linejoin:miter;stroke-width:0.8;\"/>\n   </g>\n   <g id=\"patch_4\">\n    <path d=\"M 368.0875 239.758125 \nL 368.0875 22.318125 \n\" style=\"fill:none;stroke:#000000;stroke-linecap:square;stroke-linejoin:miter;stroke-width:0.8;\"/>\n   </g>\n   <g id=\"patch_5\">\n    <path d=\"M 33.2875 239.758125 \nL 368.0875 239.758125 \n\" style=\"fill:none;stroke:#000000;stroke-linecap:square;stroke-linejoin:miter;stroke-width:0.8;\"/>\n   </g>\n   <g id=\"patch_6\">\n    <path d=\"M 33.2875 22.318125 \nL 368.0875 22.318125 \n\" style=\"fill:none;stroke:#000000;stroke-linecap:square;stroke-linejoin:miter;stroke-width:0.8;\"/>\n   </g>\n   <g id=\"text_16\">\n    <!-- (78, 1) -->\n    <defs>\n     <path d=\"M 31 75.875 \nQ 24.46875 64.65625 21.28125 53.65625 \nQ 18.109375 42.671875 18.109375 31.390625 \nQ 18.109375 20.125 21.3125 9.0625 \nQ 24.515625 -2 31 -13.1875 \nL 23.1875 -13.1875 \nQ 15.875 -1.703125 12.234375 9.375 \nQ 8.59375 20.453125 8.59375 31.390625 \nQ 8.59375 42.28125 12.203125 53.3125 \nQ 15.828125 64.359375 23.1875 75.875 \nz\n\" id=\"DejaVuSans-40\"/>\n     <path d=\"M 31.78125 34.625 \nQ 24.75 34.625 20.71875 30.859375 \nQ 16.703125 27.09375 16.703125 20.515625 \nQ 16.703125 13.921875 20.71875 10.15625 \nQ 24.75 6.390625 31.78125 6.390625 \nQ 38.8125 6.390625 42.859375 10.171875 \nQ 46.921875 13.96875 46.921875 20.515625 \nQ 46.921875 27.09375 42.890625 30.859375 \nQ 38.875 34.625 31.78125 34.625 \nz\nM 21.921875 38.8125 \nQ 15.578125 40.375 12.03125 44.71875 \nQ 8.5 49.078125 8.5 55.328125 \nQ 8.5 64.0625 14.71875 69.140625 \nQ 20.953125 74.21875 31.78125 74.21875 \nQ 42.671875 74.21875 48.875 69.140625 \nQ 55.078125 64.0625 55.078125 55.328125 \nQ 55.078125 49.078125 51.53125 44.71875 \nQ 48 40.375 41.703125 38.8125 \nQ 48.828125 37.15625 52.796875 32.3125 \nQ 56.78125 27.484375 56.78125 20.515625 \nQ 56.78125 9.90625 50.3125 4.234375 \nQ 43.84375 -1.421875 31.78125 -1.421875 \nQ 19.734375 -1.421875 13.25 4.234375 \nQ 6.78125 9.90625 6.78125 20.515625 \nQ 6.78125 27.484375 10.78125 32.3125 \nQ 14.796875 37.15625 21.921875 38.8125 \nz\nM 18.3125 54.390625 \nQ 18.3125 48.734375 21.84375 45.5625 \nQ 25.390625 42.390625 31.78125 42.390625 \nQ 38.140625 42.390625 41.71875 45.5625 \nQ 45.3125 48.734375 45.3125 54.390625 \nQ 45.3125 60.0625 41.71875 63.234375 \nQ 38.140625 66.40625 31.78125 66.40625 \nQ 25.390625 66.40625 21.84375 63.234375 \nQ 18.3125 60.0625 18.3125 54.390625 \nz\n\" id=\"DejaVuSans-56\"/>\n     <path d=\"M 11.71875 12.40625 \nL 22.015625 12.40625 \nL 22.015625 4 \nL 14.015625 -11.625 \nL 7.71875 -11.625 \nL 11.71875 4 \nz\n\" id=\"DejaVuSans-44\"/>\n     <path id=\"DejaVuSans-32\"/>\n     <path d=\"M 8.015625 75.875 \nL 15.828125 75.875 \nQ 23.140625 64.359375 26.78125 53.3125 \nQ 30.421875 42.28125 30.421875 31.390625 \nQ 30.421875 20.453125 26.78125 9.375 \nQ 23.140625 -1.703125 15.828125 -13.1875 \nL 8.015625 -13.1875 \nQ 14.5 -2 17.703125 9.0625 \nQ 20.90625 20.125 20.90625 31.390625 \nQ 20.90625 42.671875 17.703125 53.65625 \nQ 14.5 64.65625 8.015625 75.875 \nz\n\" id=\"DejaVuSans-41\"/>\n    </defs>\n    <g transform=\"translate(180.739375 16.318125)scale(0.12 -0.12)\">\n     <use xlink:href=\"#DejaVuSans-40\"/>\n     <use x=\"39.013672\" xlink:href=\"#DejaVuSans-55\"/>\n     <use x=\"102.636719\" xlink:href=\"#DejaVuSans-56\"/>\n     <use x=\"166.259766\" xlink:href=\"#DejaVuSans-44\"/>\n     <use x=\"198.046875\" xlink:href=\"#DejaVuSans-32\"/>\n     <use x=\"229.833984\" xlink:href=\"#DejaVuSans-49\"/>\n     <use x=\"293.457031\" xlink:href=\"#DejaVuSans-41\"/>\n    </g>\n   </g>\n   <g id=\"legend_1\">\n    <g id=\"patch_7\">\n     <path d=\"M 40.2875 59.674375 \nL 123.4875 59.674375 \nQ 125.4875 59.674375 125.4875 57.674375 \nL 125.4875 29.318125 \nQ 125.4875 27.318125 123.4875 27.318125 \nL 40.2875 27.318125 \nQ 38.2875 27.318125 38.2875 29.318125 \nL 38.2875 57.674375 \nQ 38.2875 59.674375 40.2875 59.674375 \nz\n\" style=\"fill:#ffffff;opacity:0.8;stroke:#cccccc;stroke-linejoin:miter;\"/>\n    </g>\n    <g id=\"line2d_18\">\n     <path d=\"M 42.2875 35.416562 \nL 62.2875 35.416562 \n\" style=\"fill:none;stroke:#1f77b4;stroke-linecap:square;stroke-width:1.5;\"/>\n    </g>\n    <g id=\"line2d_19\"/>\n    <g id=\"text_17\">\n     <!-- data -->\n     <defs>\n      <path d=\"M 45.40625 46.390625 \nL 45.40625 75.984375 \nL 54.390625 75.984375 \nL 54.390625 0 \nL 45.40625 0 \nL 45.40625 8.203125 \nQ 42.578125 3.328125 38.25 0.953125 \nQ 33.9375 -1.421875 27.875 -1.421875 \nQ 17.96875 -1.421875 11.734375 6.484375 \nQ 5.515625 14.40625 5.515625 27.296875 \nQ 5.515625 40.1875 11.734375 48.09375 \nQ 17.96875 56 27.875 56 \nQ 33.9375 56 38.25 53.625 \nQ 42.578125 51.265625 45.40625 46.390625 \nz\nM 14.796875 27.296875 \nQ 14.796875 17.390625 18.875 11.75 \nQ 22.953125 6.109375 30.078125 6.109375 \nQ 37.203125 6.109375 41.296875 11.75 \nQ 45.40625 17.390625 45.40625 27.296875 \nQ 45.40625 37.203125 41.296875 42.84375 \nQ 37.203125 48.484375 30.078125 48.484375 \nQ 22.953125 48.484375 18.875 42.84375 \nQ 14.796875 37.203125 14.796875 27.296875 \nz\n\" id=\"DejaVuSans-100\"/>\n      <path d=\"M 34.28125 27.484375 \nQ 23.390625 27.484375 19.1875 25 \nQ 14.984375 22.515625 14.984375 16.5 \nQ 14.984375 11.71875 18.140625 8.90625 \nQ 21.296875 6.109375 26.703125 6.109375 \nQ 34.1875 6.109375 38.703125 11.40625 \nQ 43.21875 16.703125 43.21875 25.484375 \nL 43.21875 27.484375 \nz\nM 52.203125 31.203125 \nL 52.203125 0 \nL 43.21875 0 \nL 43.21875 8.296875 \nQ 40.140625 3.328125 35.546875 0.953125 \nQ 30.953125 -1.421875 24.3125 -1.421875 \nQ 15.921875 -1.421875 10.953125 3.296875 \nQ 6 8.015625 6 15.921875 \nQ 6 25.140625 12.171875 29.828125 \nQ 18.359375 34.515625 30.609375 34.515625 \nL 43.21875 34.515625 \nL 43.21875 35.40625 \nQ 43.21875 41.609375 39.140625 45 \nQ 35.0625 48.390625 27.6875 48.390625 \nQ 23 48.390625 18.546875 47.265625 \nQ 14.109375 46.140625 10.015625 43.890625 \nL 10.015625 52.203125 \nQ 14.9375 54.109375 19.578125 55.046875 \nQ 24.21875 56 28.609375 56 \nQ 40.484375 56 46.34375 49.84375 \nQ 52.203125 43.703125 52.203125 31.203125 \nz\n\" id=\"DejaVuSans-97\"/>\n      <path d=\"M 18.3125 70.21875 \nL 18.3125 54.6875 \nL 36.8125 54.6875 \nL 36.8125 47.703125 \nL 18.3125 47.703125 \nL 18.3125 18.015625 \nQ 18.3125 11.328125 20.140625 9.421875 \nQ 21.96875 7.515625 27.59375 7.515625 \nL 36.8125 7.515625 \nL 36.8125 0 \nL 27.59375 0 \nQ 17.1875 0 13.234375 3.875 \nQ 9.28125 7.765625 9.28125 18.015625 \nL 9.28125 47.703125 \nL 2.6875 47.703125 \nL 2.6875 54.6875 \nL 9.28125 54.6875 \nL 9.28125 70.21875 \nz\n\" id=\"DejaVuSans-116\"/>\n     </defs>\n     <g transform=\"translate(70.2875 38.916562)scale(0.1 -0.1)\">\n      <use xlink:href=\"#DejaVuSans-100\"/>\n      <use x=\"63.476562\" xlink:href=\"#DejaVuSans-97\"/>\n      <use x=\"124.755859\" xlink:href=\"#DejaVuSans-116\"/>\n      <use x=\"163.964844\" xlink:href=\"#DejaVuSans-97\"/>\n     </g>\n    </g>\n    <g id=\"line2d_20\">\n     <path d=\"M 42.2875 50.094687 \nL 62.2875 50.094687 \n\" style=\"fill:none;stroke:#ff7f0e;stroke-linecap:square;stroke-width:1.5;\"/>\n    </g>\n    <g id=\"line2d_21\"/>\n    <g id=\"text_18\">\n     <!-- markov fit -->\n     <defs>\n      <path d=\"M 52 44.1875 \nQ 55.375 50.25 60.0625 53.125 \nQ 64.75 56 71.09375 56 \nQ 79.640625 56 84.28125 50.015625 \nQ 88.921875 44.046875 88.921875 33.015625 \nL 88.921875 0 \nL 79.890625 0 \nL 79.890625 32.71875 \nQ 79.890625 40.578125 77.09375 44.375 \nQ 74.3125 48.1875 68.609375 48.1875 \nQ 61.625 48.1875 57.5625 43.546875 \nQ 53.515625 38.921875 53.515625 30.90625 \nL 53.515625 0 \nL 44.484375 0 \nL 44.484375 32.71875 \nQ 44.484375 40.625 41.703125 44.40625 \nQ 38.921875 48.1875 33.109375 48.1875 \nQ 26.21875 48.1875 22.15625 43.53125 \nQ 18.109375 38.875 18.109375 30.90625 \nL 18.109375 0 \nL 9.078125 0 \nL 9.078125 54.6875 \nL 18.109375 54.6875 \nL 18.109375 46.1875 \nQ 21.1875 51.21875 25.484375 53.609375 \nQ 29.78125 56 35.6875 56 \nQ 41.65625 56 45.828125 52.96875 \nQ 50 49.953125 52 44.1875 \nz\n\" id=\"DejaVuSans-109\"/>\n      <path d=\"M 41.109375 46.296875 \nQ 39.59375 47.171875 37.8125 47.578125 \nQ 36.03125 48 33.890625 48 \nQ 26.265625 48 22.1875 43.046875 \nQ 18.109375 38.09375 18.109375 28.8125 \nL 18.109375 0 \nL 9.078125 0 \nL 9.078125 54.6875 \nL 18.109375 54.6875 \nL 18.109375 46.1875 \nQ 20.953125 51.171875 25.484375 53.578125 \nQ 30.03125 56 36.53125 56 \nQ 37.453125 56 38.578125 55.875 \nQ 39.703125 55.765625 41.0625 55.515625 \nz\n\" id=\"DejaVuSans-114\"/>\n      <path d=\"M 9.078125 75.984375 \nL 18.109375 75.984375 \nL 18.109375 31.109375 \nL 44.921875 54.6875 \nL 56.390625 54.6875 \nL 27.390625 29.109375 \nL 57.625 0 \nL 45.90625 0 \nL 18.109375 26.703125 \nL 18.109375 0 \nL 9.078125 0 \nz\n\" id=\"DejaVuSans-107\"/>\n      <path d=\"M 30.609375 48.390625 \nQ 23.390625 48.390625 19.1875 42.75 \nQ 14.984375 37.109375 14.984375 27.296875 \nQ 14.984375 17.484375 19.15625 11.84375 \nQ 23.34375 6.203125 30.609375 6.203125 \nQ 37.796875 6.203125 41.984375 11.859375 \nQ 46.1875 17.53125 46.1875 27.296875 \nQ 46.1875 37.015625 41.984375 42.703125 \nQ 37.796875 48.390625 30.609375 48.390625 \nz\nM 30.609375 56 \nQ 42.328125 56 49.015625 48.375 \nQ 55.71875 40.765625 55.71875 27.296875 \nQ 55.71875 13.875 49.015625 6.21875 \nQ 42.328125 -1.421875 30.609375 -1.421875 \nQ 18.84375 -1.421875 12.171875 6.21875 \nQ 5.515625 13.875 5.515625 27.296875 \nQ 5.515625 40.765625 12.171875 48.375 \nQ 18.84375 56 30.609375 56 \nz\n\" id=\"DejaVuSans-111\"/>\n      <path d=\"M 2.984375 54.6875 \nL 12.5 54.6875 \nL 29.59375 8.796875 \nL 46.6875 54.6875 \nL 56.203125 54.6875 \nL 35.6875 0 \nL 23.484375 0 \nz\n\" id=\"DejaVuSans-118\"/>\n      <path d=\"M 37.109375 75.984375 \nL 37.109375 68.5 \nL 28.515625 68.5 \nQ 23.6875 68.5 21.796875 66.546875 \nQ 19.921875 64.59375 19.921875 59.515625 \nL 19.921875 54.6875 \nL 34.71875 54.6875 \nL 34.71875 47.703125 \nL 19.921875 47.703125 \nL 19.921875 0 \nL 10.890625 0 \nL 10.890625 47.703125 \nL 2.296875 47.703125 \nL 2.296875 54.6875 \nL 10.890625 54.6875 \nL 10.890625 58.5 \nQ 10.890625 67.625 15.140625 71.796875 \nQ 19.390625 75.984375 28.609375 75.984375 \nz\n\" id=\"DejaVuSans-102\"/>\n      <path d=\"M 9.421875 54.6875 \nL 18.40625 54.6875 \nL 18.40625 0 \nL 9.421875 0 \nz\nM 9.421875 75.984375 \nL 18.40625 75.984375 \nL 18.40625 64.59375 \nL 9.421875 64.59375 \nz\n\" id=\"DejaVuSans-105\"/>\n     </defs>\n     <g transform=\"translate(70.2875 53.594687)scale(0.1 -0.1)\">\n      <use xlink:href=\"#DejaVuSans-109\"/>\n      <use x=\"97.412109\" xlink:href=\"#DejaVuSans-97\"/>\n      <use x=\"158.691406\" xlink:href=\"#DejaVuSans-114\"/>\n      <use x=\"199.804688\" xlink:href=\"#DejaVuSans-107\"/>\n      <use x=\"257.667969\" xlink:href=\"#DejaVuSans-111\"/>\n      <use x=\"318.849609\" xlink:href=\"#DejaVuSans-118\"/>\n      <use x=\"378.029297\" xlink:href=\"#DejaVuSans-32\"/>\n      <use x=\"409.816406\" xlink:href=\"#DejaVuSans-102\"/>\n      <use x=\"445.021484\" xlink:href=\"#DejaVuSans-105\"/>\n      <use x=\"472.804688\" xlink:href=\"#DejaVuSans-116\"/>\n     </g>\n    </g>\n   </g>\n  </g>\n </g>\n <defs>\n  <clipPath id=\"p4a337e917f\">\n   <rect height=\"217.44\" width=\"334.8\" x=\"33.2875\" y=\"22.318125\"/>\n  </clipPath>\n </defs>\n</svg>\n",
      "text/plain": "<Figure size 432x288 with 1 Axes>"
     },
     "metadata": {
      "needs_background": "light"
     },
     "output_type": "display_data"
    },
    {
     "name": "stdout",
     "output_type": "stream",
     "text": "[ 1.66015204e-01  7.50162578e+00  1.54341624e-01  2.47074310e-01\n  1.45634814e+00  2.44589877e+03 -1.07409250e+01  1.74809816e+01\n -5.55682584e-02  4.13083477e-01]\n"
    }
   ],
   "source": [
    "Plot_Elements_Spectrum(matrix, [(78,1)], fit = 'markov')\n",
    "print(matrix[78][1].Markov_Fit_Params.values[0])"
   ]
  },
  {
   "cell_type": "code",
   "execution_count": 13,
   "metadata": {},
   "outputs": [
    {
     "data": {
      "text/plain": "True"
     },
     "execution_count": 13,
     "metadata": {},
     "output_type": "execute_result"
    }
   ],
   "source": [
    "(50,84) in excluded"
   ]
  },
  {
   "cell_type": "code",
   "execution_count": 8,
   "metadata": {},
   "outputs": [],
   "source": [
    "#funz da aggiungere lib_exp\n",
    "def Whose_Param_Too_High(param, treshold, fit,  matrix, fitted):\n",
    "\n",
    "\n",
    "    if fit == 'markov':\n",
    "        attr = 'Markov_Fit_Params'\n",
    "    elif fit == 'tot':\n",
    "        attr = 'Tot_Fit_Params'\n",
    "    else:raise ValueError(\"Select a type of fit: 'markov' or 'tot' \")\n",
    "    too_high    =   ()\n",
    "\n",
    "    for (ii,jj) in (fitted):\n",
    "        if getattr(matrix[ii][jj],attr)[param]['Values'] > treshold:\n",
    "            too_high    =   too_high    +   ((ii,jj),)\n",
    "            print(str((ii,jj))+' ha '+param+'= %3.2f'%(getattr(matrix[ii][jj],attr)[param]['Values']))\n",
    "\n",
    "    return too_high\n",
    "\n",
    "def Whose_Param_Too_Low(param, treshold, fit, matrix, fitted):\n",
    "\n",
    "    if fit == 'markov':\n",
    "        attr = 'Markov_Fit_Params'\n",
    "    elif fit == 'tot':\n",
    "        attr = 'Tot_Fit_Params'\n",
    "    else:raise ValueError(\"Select a type of fit: 'markov' or 'tot' \")\n",
    "\n",
    "    too_low    =   ()\n",
    "\n",
    "    for (ii,jj) in (fitted):\n",
    "        if getattr(matrix[ii][jj],attr)[param]['Values'] <= treshold:\n",
    "            too_low    =   too_low    +   ((ii,jj),)\n",
    "            print(str((ii,jj))+' ha '+param+'= %3.2f'%(getattr(matrix[ii][jj],attr)[param]['Values'][param]['Values']))\n",
    "\n",
    "    return too_low\n",
    "def Plot_Elements_Spectrum(matrix, elements_iterable, fit = False, pix = False, peaks = False):\n",
    "\n",
    "    if pix:\n",
    "\n",
    "        attribute = 'x'\n",
    "        \n",
    "    else:\n",
    "        attribute = 'x_freq'\n",
    "\n",
    "    for (ii,jj) in elements_iterable:\n",
    "        \n",
    "        print(str((ii,jj)))\n",
    "        plt.figure()\n",
    "        plt.plot(getattr(matrix[ii][jj], attribute), matrix[ii][jj].y, label = 'data')\n",
    "\n",
    "        if fit:\n",
    "                \n",
    "            if fit == 'markov':\n",
    "                plt.plot(getattr(matrix[ii][jj], attribute), matrix[ii][jj].y_markov_fit, label = 'markov fit')\n",
    "\n",
    "            elif fit == 'tot':\n",
    "                plt.plot(getattr(matrix[ii][jj], attribute), matrix[ii][jj].y_fit, label = 'tot fit')\n",
    "\n",
    "        if peaks:\n",
    "            #anche se non funziona con x_freq i picchi, o forse sì?\n",
    "            plt.plot(getattr(matrix[ii][jj], attribute)[matrix[ii][jj].peaks[0]], matrix[ii][jj].y[matrix[ii][jj].peaks[0]], '+', label = 'peaks')\n",
    "        \n",
    "        plt.title(str((ii,jj)))\n",
    "        plt.legend()\n",
    "        plt.show()"
   ]
  },
  {
   "cell_type": "code",
   "execution_count": null,
   "metadata": {},
   "outputs": [],
   "source": [
    "################ TOTALE\n",
    "\n",
    "#with open(now_path+'y_tot_fit.txt', 'r') as fin:\n",
    "#    y_fits = fin.readlines()\n",
    "\n",
    "with open(now_path+'cost_tot.txt', 'r') as fin:\n",
    "    costi = fin.readlines()\n",
    "with open(now_path+'tot_fit_params.txt', 'r') as fin:\n",
    "    lines   =   fin.readlines()\n",
    "\n",
    "if (len(boni) != len(lines)):\n",
    "    raise ValueError(\"Incompatibilità tra lunghezza file parametri ({}) e informazioni fit ({})\".format(len(boni), len(lines)))\n",
    "\n",
    "#for (line, y_fit, cost, (ii,jj)) in zip(lines, y_fits, costi,  boni) :\n",
    "for (line, cost, (ii,jj)) in zip(lines, costi,  boni) :\n",
    "    matrix[ii][jj].Recover_Tot_Fit_Params(line)\n",
    "    #matrix[ii][jj].Recover_y_fit(y_fit)\n",
    "    matrix[ii][jj].Recover_cost_tot(float(cost))\n",
    "\n",
    "print('Ok ho recuperato le informazioni del Fit Totale')"
   ]
  },
  {
   "cell_type": "code",
   "execution_count": 4,
   "metadata": {},
   "outputs": [
    {
     "data": {
      "text/plain": "array([ 6.47210492,  6.46389804,  6.45566781,  6.44764676,  6.4407845 ,\n        6.43598151,  6.43369209,  6.43402582,  6.43675031,  6.44097345,\n        6.4453177 ,  6.44905109,  6.45290483,  6.45812844,  6.46463217,\n        6.4704768 ,  6.47328379,  6.471939  ,  6.46707728,  6.46033542,\n        6.45322433,  6.44646041,  6.44015935,  6.43451764,  6.43006163,\n        6.42711011,  6.42525623,  6.42372209,  6.42216741,  6.42085111,\n        6.41998269,  6.41920517,  6.41786768,  6.41569016,  6.41309902,\n        6.41101928,  6.41035673,  6.41152897,  6.41433683,  6.41814692,\n        6.42210584,  6.42533496,  6.42727487,  6.42801521,  6.42816003,\n        6.4282673 ,  6.42851389,  6.42889579,  6.42945062,  6.43006429,\n        6.43026923,  6.4296305 ,  6.42852284,  6.4284306 ,  6.43119986,\n        6.43772003,  6.4473057 ,  6.45853386,  6.47071092,  6.48432919,\n        6.50002127,  6.51726672,  6.53426496,  6.54898105,  6.56032441,\n        6.56865403,  6.57541101,  6.58208255,  6.58931533,  6.59725785,\n        6.60688136,  6.62041346,  6.63989832,  6.66536048,  6.69456552,\n        6.72472841,  6.7550595 ,  6.7883611 ,  6.83002447,  6.88457285,\n        6.95233881,  7.02925344,  7.11037917,  7.19472629,  7.28778552,\n        7.40046795,  7.546276  ,  7.73863344,  7.98900961,  8.30816637,\n        8.71451082,  9.24969596,  9.99776461, 11.109132  , 12.84066489,\n       15.61453801, 20.02736966, 26.62640268, 35.32342559, 44.73601416,\n       52.18978457, 54.84615496, 51.37890352, 42.88253439, 32.22698537,\n       22.40784283, 15.18216552, 10.78526306,  8.51595159,  7.48303478,\n        7.03183053,  6.81386139,  6.68611434,  6.60017479,  6.53864817,\n        6.49183318,  6.45313953,  6.41933032,  6.39032254,  6.36752416,\n        6.35165894,  6.34170852,  6.33544553,  6.33061734,  6.32584411,\n        6.32089155,  6.31628905,  6.31258977,  6.30978152])"
     },
     "execution_count": 4,
     "metadata": {},
     "output_type": "execute_result"
    }
   ],
   "source": [
    "matrix[0][0].y_markov_fit"
   ]
  },
  {
   "cell_type": "code",
   "execution_count": null,
   "metadata": {},
   "outputs": [],
   "source": []
  }
 ]
}